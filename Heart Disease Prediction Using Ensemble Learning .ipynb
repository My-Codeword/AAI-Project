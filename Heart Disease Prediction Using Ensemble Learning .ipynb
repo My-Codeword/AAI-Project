{
 "cells": [
  {
   "cell_type": "code",
   "execution_count": null,
   "id": "e105aa59",
   "metadata": {},
   "outputs": [],
   "source": [
    "import pandas as pd\n",
    "import numpy as np\n",
    "import gradio as gr\n",
    "from sklearn.model_selection import train_test_split\n",
    "from sklearn.preprocessing import StandardScaler, LabelEncoder\n",
    "from sklearn.linear_model import LogisticRegression\n",
    "from sklearn.ensemble import RandomForestClassifier, VotingClassifier\n",
    "from sklearn.svm import SVC\n",
    "from sklearn.metrics import classification_report, accuracy_score, confusion_matrix\n"
   ]
  },
  {
   "cell_type": "code",
   "execution_count": null,
   "id": "278d5cf9",
   "metadata": {},
   "outputs": [],
   "source": [
    "# Load the dataset\n",
    "df = pd.read_csv(\"Heart Attack.csv\")"
   ]
  },
  {
   "cell_type": "code",
   "execution_count": null,
   "id": "0c3de566",
   "metadata": {},
   "outputs": [],
   "source": [
    "df.head()"
   ]
  },
  {
   "cell_type": "code",
   "execution_count": null,
   "id": "ac5e94c3",
   "metadata": {},
   "outputs": [],
   "source": [
    "df.shape"
   ]
  },
  {
   "cell_type": "code",
   "execution_count": null,
   "id": "b10bc816",
   "metadata": {},
   "outputs": [],
   "source": [
    "df.size"
   ]
  },
  {
   "cell_type": "code",
   "execution_count": null,
   "id": "29463898",
   "metadata": {},
   "outputs": [],
   "source": [
    "df.columns"
   ]
  },
  {
   "cell_type": "code",
   "execution_count": null,
   "id": "6090fc07",
   "metadata": {},
   "outputs": [],
   "source": [
    "df.duplicated().sum()"
   ]
  },
  {
   "cell_type": "code",
   "execution_count": null,
   "id": "7bc7fdb6",
   "metadata": {},
   "outputs": [],
   "source": [
    "df.isnull().any()"
   ]
  },
  {
   "cell_type": "code",
   "execution_count": null,
   "id": "5f6e6b2a",
   "metadata": {},
   "outputs": [],
   "source": [
    "df.info()"
   ]
  },
  {
   "cell_type": "code",
   "execution_count": null,
   "id": "1a073fb6",
   "metadata": {},
   "outputs": [],
   "source": [
    "df.describe().round(3)"
   ]
  },
  {
   "cell_type": "code",
   "execution_count": null,
   "id": "a3341ff8",
   "metadata": {},
   "outputs": [],
   "source": [
    "numerical_columns = df.select_dtypes(include=['int64', 'float64']).columns\n",
    "print(\"Numerical Columns:\",numerical_columns)\n",
    "\n",
    "object_columns = df.select_dtypes(include=['object']).columns\n",
    "print(\"\\nObject Columns:\",object_columns)"
   ]
  },
  {
   "cell_type": "code",
   "execution_count": null,
   "id": "3b63653d",
   "metadata": {},
   "outputs": [],
   "source": [
    "import matplotlib.pyplot as plt\n",
    "import seaborn as sns\n",
    "import plotly.express as px\n",
    "import plotly.graph_objects as go\n",
    "import warnings\n",
    "warnings.filterwarnings('ignore')"
   ]
  },
  {
   "cell_type": "code",
   "execution_count": null,
   "id": "386bbc3e",
   "metadata": {},
   "outputs": [],
   "source": [
    "for i in numerical_columns:\n",
    "    fig = go.Figure(data=[go.Bar(x=df[i].value_counts().index, y=df[i].value_counts(),uid =None)])\n",
    "    fig.update_layout(\n",
    "        title=i,\n",
    "        xaxis_title=i,\n",
    "        yaxis_title=\"Count\")\n",
    "    fig.show()"
   ]
  },
  {
   "cell_type": "code",
   "execution_count": null,
   "id": "6d971280",
   "metadata": {},
   "outputs": [],
   "source": [
    "for i in numerical_columns:\n",
    "    plt.figure(figsize=(15,6))\n",
    "    sns.histplot(df[i], kde = True, bins = 20, palette = 'hls')\n",
    "    plt.xticks(rotation = 90)\n",
    "    plt.show()"
   ]
  },
  {
   "cell_type": "code",
   "execution_count": null,
   "id": "ea5df009",
   "metadata": {},
   "outputs": [],
   "source": [
    "for i in numerical_columns:\n",
    "    plt.figure(figsize=(15,6))\n",
    "    sns.distplot(df[i], kde = True, bins = 20)\n",
    "    plt.xticks(rotation = 0)\n",
    "    plt.show()"
   ]
  },
  {
   "cell_type": "code",
   "execution_count": null,
   "id": "dbd9a6e1",
   "metadata": {},
   "outputs": [],
   "source": [
    "for i in numerical_columns:\n",
    "    plt.figure(figsize=(15,6))\n",
    "    sns.distplot(df[i], kde = True, bins = 20)\n",
    "    plt.xticks(rotation = 0)\n",
    "    plt.show()"
   ]
  },
  {
   "cell_type": "code",
   "execution_count": null,
   "id": "3bc320f9",
   "metadata": {},
   "outputs": [],
   "source": [
    "for i in numerical_columns:\n",
    "    fig = go.Figure(data=[go.Histogram(x=df[i], nbinsx=20)])\n",
    "    fig.update_layout(\n",
    "        title=f'Histogram of {i}',\n",
    "        xaxis_title=i,\n",
    "        yaxis_title=\"Count\"\n",
    "    )\n",
    "    fig.update_traces(marker=dict(line=dict(width=1, color='black')))\n",
    "    fig.show()"
   ]
  },
  {
   "cell_type": "code",
   "execution_count": null,
   "id": "2478d6ef",
   "metadata": {},
   "outputs": [],
   "source": [
    "numeric_df = df.select_dtypes(include=[np.number])\n",
    "# Compute correlation matrix\n",
    "corr = numeric_df.corr()\n",
    "\n",
    "# Create mask and plot\n",
    "mask = np.triu(np.ones_like(corr, dtype=bool))\n",
    "fig, ax = plt.subplots(figsize=(14, 11))\n",
    "cmap = sns.diverging_palette(230, 20, as_cmap=True)\n",
    "\n",
    "sns.heatmap(corr, mask=mask, cmap=cmap, vmax=.3, center=0,\n",
    "            square=True, linewidths=.5, cbar_kws={\"shrink\": .5}, annot=True)\n",
    "\n",
    "plt.title('Correlation Matrix')\n",
    "plt.show()"
   ]
  },
  {
   "cell_type": "code",
   "execution_count": null,
   "id": "3432cfd0",
   "metadata": {},
   "outputs": [],
   "source": [
    "# Encode target column\n",
    "le = LabelEncoder()\n",
    "df['class'] = le.fit_transform(df['class'])  # positive -> 1, negative -> 0\n",
    "\n",
    "# Features and target\n",
    "X = df.drop('class', axis=1)\n",
    "y = df['class']"
   ]
  },
  {
   "cell_type": "code",
   "execution_count": null,
   "id": "a2427183",
   "metadata": {},
   "outputs": [],
   "source": [
    "\n",
    "# Check original class distribution\n",
    "print(\"Full class distribution:\")\n",
    "print(y.value_counts())\n"
   ]
  },
  {
   "cell_type": "code",
   "execution_count": null,
   "id": "11a8bc2a",
   "metadata": {},
   "outputs": [],
   "source": [
    "# Train/test split with stratification\n",
    "X_train, X_test, y_train, y_test = train_test_split(\n",
    "    X, y, test_size=0.2, random_state=42, stratify=y\n",
    ")"
   ]
  },
  {
   "cell_type": "code",
   "execution_count": null,
   "id": "494b7ea5",
   "metadata": {},
   "outputs": [],
   "source": [
    "print(\"y_train class distribution:\")\n",
    "print(pd.Series(y_train).value_counts())\n",
    "print(\"y_test class distribution:\")\n",
    "print(pd.Series(y_test).value_counts())"
   ]
  },
  {
   "cell_type": "code",
   "execution_count": null,
   "id": "41c71da8",
   "metadata": {},
   "outputs": [],
   "source": [
    "# Scale features\n",
    "scaler = StandardScaler()\n",
    "X_train_scaled = scaler.fit_transform(X_train)\n",
    "X_test_scaled = scaler.transform(X_test)\n"
   ]
  },
  {
   "cell_type": "code",
   "execution_count": null,
   "id": "24229b9c",
   "metadata": {},
   "outputs": [],
   "source": [
    "# Logistic Regression\n",
    "log_model = LogisticRegression(max_iter=1000, random_state=42)\n",
    "log_model.fit(X_train_scaled, y_train)\n",
    "log_pred = log_model.predict(X_test_scaled)\n",
    "log_acc = accuracy_score(y_test, log_pred)\n",
    "print(f\"Logistic Regression Accuracy: {log_acc:.2f}\")\n",
    "print(\"Confusion Matrix - Logistic Regression:\")\n",
    "print(confusion_matrix(y_test, log_pred))"
   ]
  },
  {
   "cell_type": "code",
   "execution_count": null,
   "id": "93be240a",
   "metadata": {},
   "outputs": [],
   "source": [
    "cm = confusion_matrix(y_test, log_pred)\n",
    "\n",
    "# Plot confusion matrix as a heatmap\n",
    "plt.figure(figsize=(6, 4))\n",
    "sns.heatmap(cm, annot=True, fmt='d', cmap='Blues', xticklabels=['No Disease', 'Disease'], yticklabels=['No Disease', 'Disease'])\n",
    "plt.title(\"Confusion Matrix - Logistic Regression\")\n",
    "plt.xlabel(\"Predicted Label\")\n",
    "plt.ylabel(\"True Label\")\n",
    "plt.show()"
   ]
  },
  {
   "cell_type": "code",
   "execution_count": null,
   "id": "221dfd81",
   "metadata": {},
   "outputs": [],
   "source": [
    "# Random Forest\n",
    "rf_model = RandomForestClassifier(n_estimators=100, random_state=42)\n",
    "rf_model.fit(X_train_scaled, y_train)\n",
    "rf_pred = rf_model.predict(X_test_scaled)\n",
    "rf_acc = accuracy_score(y_test, rf_pred)\n",
    "print(f\"Random Forest Accuracy: {rf_acc:.2f}\")\n",
    "print(\"Confusion Matrix - Random Forest:\")\n",
    "print(confusion_matrix(y_test, rf_pred))"
   ]
  },
  {
   "cell_type": "code",
   "execution_count": null,
   "id": "ff534781",
   "metadata": {},
   "outputs": [],
   "source": [
    "cm_rf = confusion_matrix(y_test, rf_pred)\n",
    "\n",
    "# Plot confusion matrix as heatmap\n",
    "plt.figure(figsize=(6, 4))\n",
    "sns.heatmap(cm_rf, annot=True, fmt='d', cmap='Greens', xticklabels=['No Disease', 'Disease'], yticklabels=['No Disease', 'Disease'])\n",
    "plt.title(\"Confusion Matrix - Random Forest\")\n",
    "plt.xlabel(\"Predicted Label\")\n",
    "plt.ylabel(\"True Label\")\n",
    "plt.show()"
   ]
  },
  {
   "cell_type": "code",
   "execution_count": null,
   "id": "af2dfc8d",
   "metadata": {},
   "outputs": [],
   "source": [
    "# SVM\n",
    "svm_model = SVC(probability=True, random_state=42)\n",
    "svm_model.fit(X_train_scaled, y_train)\n",
    "svm_pred = svm_model.predict(X_test_scaled)\n",
    "svm_acc = accuracy_score(y_test, svm_pred)\n",
    "print(f\"SVM Accuracy: {svm_acc:.2f}\")\n",
    "print(\"Confusion Matrix - SVM:\")\n",
    "print(confusion_matrix(y_test, svm_pred))\n"
   ]
  },
  {
   "cell_type": "code",
   "execution_count": null,
   "id": "1811bc38",
   "metadata": {},
   "outputs": [],
   "source": [
    "cm_svm = confusion_matrix(y_test, svm_pred)\n",
    "\n",
    "# Plot confusion matrix as heatmap\n",
    "plt.figure(figsize=(6, 4))\n",
    "sns.heatmap(cm_svm, annot=True, fmt='d', cmap='pink', xticklabels=['No Disease', 'Disease'], yticklabels=['No Disease', 'Disease'])\n",
    "plt.title(\"Confusion Matrix - SVM\")\n",
    "plt.xlabel(\"Predicted Label\")\n",
    "plt.ylabel(\"True Label\")\n",
    "plt.show()\n"
   ]
  },
  {
   "cell_type": "code",
   "execution_count": null,
   "id": "ce5729bd",
   "metadata": {},
   "outputs": [],
   "source": [
    "# Voting classifier\n",
    "log_clf = LogisticRegression(max_iter=1000, random_state=42)\n",
    "rf_clf = RandomForestClassifier(n_estimators=100, random_state=42)\n",
    "svm_clf = SVC(probability=True, random_state=42)\n",
    "\n",
    "voting_clf = VotingClassifier(\n",
    "    estimators=[('lr', log_clf), ('rf', rf_clf), ('svm', svm_clf)],\n",
    "    voting='soft'\n",
    ")\n",
    "voting_clf.fit(X_train_scaled, y_train)\n",
    "vote_pred = voting_clf.predict(X_test_scaled)\n",
    "vote_acc = accuracy_score(y_test, vote_pred)\n",
    "print(f\"Voting Classifier Accuracy: {vote_acc:.2f}\")\n",
    "print(\"Confusion Matrix - Voting Classifier:\")\n",
    "print(confusion_matrix(y_test, vote_pred))"
   ]
  },
  {
   "attachments": {
    "image.png": {
     "image/png": "[encoded data removed]"
    }
   },
   "cell_type": "markdown",
   "id": "bf8ff570",
   "metadata": {},
   "source": [
    "# ![image.png](attachment:image.png)"
   ]
  },
  {
   "cell_type": "code",
   "execution_count": null,
   "id": "f52261c4",
   "metadata": {},
   "outputs": [],
   "source": [
    "cm_vote = confusion_matrix(y_test, vote_pred)\n",
    "\n",
    "# Plot confusion matrix as heatmap\n",
    "plt.figure(figsize=(6, 4))\n",
    "sns.heatmap(cm_vote, annot=True, fmt='d', cmap='Oranges', xticklabels=['No Disease', 'Disease'], yticklabels=['No Disease', 'Disease'])\n",
    "plt.title(\"Confusion Matrix - Voting Classifier\")\n",
    "plt.xlabel(\"Predicted Label\")\n",
    "plt.ylabel(\"True Label\")\n",
    "plt.show()"
   ]
  },
  {
   "cell_type": "markdown",
   "id": "9a827522",
   "metadata": {},
   "source": [
    "# Positive:-The Person has Heart Disease\n",
    "# Nagative:-The Person does NOT have Heart Disease"
   ]
  },
  {
   "cell_type": "code",
   "execution_count": null,
   "id": "dfd85dc0",
   "metadata": {},
   "outputs": [],
   "source": [
    "# Collect user input for prediction\n",
    "print(\"Please input the following features:\")\n",
    "input_features = {}\n",
    "\n",
    "for col in X.columns:\n",
    "    value = float(input(f\"{col}: \"))\n",
    "    input_features[col] = value\n",
    "\n",
    "input_df = pd.DataFrame([input_features])\n",
    "input_scaled = scaler.transform(input_df)\n",
    "prediction = voting_clf.predict(input_scaled)\n",
    "print(\"Predicted Class:\", le.inverse_transform(prediction)[0])\n",
    "\n"
   ]
  },
  {
   "cell_type": "code",
   "execution_count": null,
   "id": "99346316",
   "metadata": {},
   "outputs": [],
   "source": []
  }
 ],
 "metadata": {
  "kernelspec": {
   "display_name": "Python 3 (ipykernel)",
   "language": "python",
   "name": "python3"
  },
  "language_info": {
   "codemirror_mode": {
    "name": "ipython",
    "version": 3
   },
   "file_extension": ".py",
   "mimetype": "text/x-python",
   "name": "python",
   "nbconvert_exporter": "python",
   "pygments_lexer": "ipython3",
   "version": "3.11.4"
  }
 },
 "nbformat": 4,
 "nbformat_minor": 5
}
